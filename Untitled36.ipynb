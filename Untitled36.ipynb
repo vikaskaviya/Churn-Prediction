{
 "cells": [
  {
   "cell_type": "code",
   "execution_count": 1,
   "metadata": {},
   "outputs": [
    {
     "name": "stdout",
     "output_type": "stream",
     "text": [
      "C:\\Users\\hp\\Desktop\n"
     ]
    }
   ],
   "source": [
    "cd Desktop"
   ]
  },
  {
   "cell_type": "code",
   "execution_count": 2,
   "metadata": {},
   "outputs": [],
   "source": [
    "import pandas as pd\n",
    "import numpy as np \n",
    "import matplotlib.pyplot as plt\n",
    "import seaborn as sns \n",
    "import scipy as sp\n",
    "import matplotlib.cm as cm"
   ]
  },
  {
   "cell_type": "code",
   "execution_count": 3,
   "metadata": {},
   "outputs": [],
   "source": [
    "dfchurn = pd.read_csv(\"churn.csv\")"
   ]
  },
  {
   "cell_type": "code",
   "execution_count": 5,
   "metadata": {},
   "outputs": [
    {
     "data": {
      "text/html": [
       "<div>\n",
       "<style scoped>\n",
       "    .dataframe tbody tr th:only-of-type {\n",
       "        vertical-align: middle;\n",
       "    }\n",
       "\n",
       "    .dataframe tbody tr th {\n",
       "        vertical-align: top;\n",
       "    }\n",
       "\n",
       "    .dataframe thead th {\n",
       "        text-align: right;\n",
       "    }\n",
       "</style>\n",
       "<table border=\"1\" class=\"dataframe\">\n",
       "  <thead>\n",
       "    <tr style=\"text-align: right;\">\n",
       "      <th></th>\n",
       "      <th>State</th>\n",
       "      <th>Account Length</th>\n",
       "      <th>Area Code</th>\n",
       "      <th>Phone</th>\n",
       "      <th>Int'l Plan</th>\n",
       "      <th>VMail Plan</th>\n",
       "      <th>VMail Message</th>\n",
       "      <th>Day Mins</th>\n",
       "      <th>Day Calls</th>\n",
       "      <th>Day Charge</th>\n",
       "      <th>...</th>\n",
       "      <th>Eve Calls</th>\n",
       "      <th>Eve Charge</th>\n",
       "      <th>Night Mins</th>\n",
       "      <th>Night Calls</th>\n",
       "      <th>Night Charge</th>\n",
       "      <th>Intl Mins</th>\n",
       "      <th>Intl Calls</th>\n",
       "      <th>Intl Charge</th>\n",
       "      <th>CustServ Calls</th>\n",
       "      <th>Churn?</th>\n",
       "    </tr>\n",
       "  </thead>\n",
       "  <tbody>\n",
       "    <tr>\n",
       "      <th>0</th>\n",
       "      <td>KS</td>\n",
       "      <td>128</td>\n",
       "      <td>415</td>\n",
       "      <td>382-4657</td>\n",
       "      <td>no</td>\n",
       "      <td>yes</td>\n",
       "      <td>25</td>\n",
       "      <td>265.1</td>\n",
       "      <td>110</td>\n",
       "      <td>45.07</td>\n",
       "      <td>...</td>\n",
       "      <td>99</td>\n",
       "      <td>16.78</td>\n",
       "      <td>244.7</td>\n",
       "      <td>91</td>\n",
       "      <td>11.01</td>\n",
       "      <td>10.0</td>\n",
       "      <td>3</td>\n",
       "      <td>2.70</td>\n",
       "      <td>1</td>\n",
       "      <td>False.</td>\n",
       "    </tr>\n",
       "    <tr>\n",
       "      <th>1</th>\n",
       "      <td>OH</td>\n",
       "      <td>107</td>\n",
       "      <td>415</td>\n",
       "      <td>371-7191</td>\n",
       "      <td>no</td>\n",
       "      <td>yes</td>\n",
       "      <td>26</td>\n",
       "      <td>161.6</td>\n",
       "      <td>123</td>\n",
       "      <td>27.47</td>\n",
       "      <td>...</td>\n",
       "      <td>103</td>\n",
       "      <td>16.62</td>\n",
       "      <td>254.4</td>\n",
       "      <td>103</td>\n",
       "      <td>11.45</td>\n",
       "      <td>13.7</td>\n",
       "      <td>3</td>\n",
       "      <td>3.70</td>\n",
       "      <td>1</td>\n",
       "      <td>False.</td>\n",
       "    </tr>\n",
       "    <tr>\n",
       "      <th>2</th>\n",
       "      <td>NJ</td>\n",
       "      <td>137</td>\n",
       "      <td>415</td>\n",
       "      <td>358-1921</td>\n",
       "      <td>no</td>\n",
       "      <td>no</td>\n",
       "      <td>0</td>\n",
       "      <td>243.4</td>\n",
       "      <td>114</td>\n",
       "      <td>41.38</td>\n",
       "      <td>...</td>\n",
       "      <td>110</td>\n",
       "      <td>10.30</td>\n",
       "      <td>162.6</td>\n",
       "      <td>104</td>\n",
       "      <td>7.32</td>\n",
       "      <td>12.2</td>\n",
       "      <td>5</td>\n",
       "      <td>3.29</td>\n",
       "      <td>0</td>\n",
       "      <td>False.</td>\n",
       "    </tr>\n",
       "    <tr>\n",
       "      <th>3</th>\n",
       "      <td>OH</td>\n",
       "      <td>84</td>\n",
       "      <td>408</td>\n",
       "      <td>375-9999</td>\n",
       "      <td>yes</td>\n",
       "      <td>no</td>\n",
       "      <td>0</td>\n",
       "      <td>299.4</td>\n",
       "      <td>71</td>\n",
       "      <td>50.90</td>\n",
       "      <td>...</td>\n",
       "      <td>88</td>\n",
       "      <td>5.26</td>\n",
       "      <td>196.9</td>\n",
       "      <td>89</td>\n",
       "      <td>8.86</td>\n",
       "      <td>6.6</td>\n",
       "      <td>7</td>\n",
       "      <td>1.78</td>\n",
       "      <td>2</td>\n",
       "      <td>False.</td>\n",
       "    </tr>\n",
       "    <tr>\n",
       "      <th>4</th>\n",
       "      <td>OK</td>\n",
       "      <td>75</td>\n",
       "      <td>415</td>\n",
       "      <td>330-6626</td>\n",
       "      <td>yes</td>\n",
       "      <td>no</td>\n",
       "      <td>0</td>\n",
       "      <td>166.7</td>\n",
       "      <td>113</td>\n",
       "      <td>28.34</td>\n",
       "      <td>...</td>\n",
       "      <td>122</td>\n",
       "      <td>12.61</td>\n",
       "      <td>186.9</td>\n",
       "      <td>121</td>\n",
       "      <td>8.41</td>\n",
       "      <td>10.1</td>\n",
       "      <td>3</td>\n",
       "      <td>2.73</td>\n",
       "      <td>3</td>\n",
       "      <td>False.</td>\n",
       "    </tr>\n",
       "  </tbody>\n",
       "</table>\n",
       "<p>5 rows × 21 columns</p>\n",
       "</div>"
      ],
      "text/plain": [
       "  State  Account Length  Area Code     Phone Int'l Plan VMail Plan  \\\n",
       "0    KS             128        415  382-4657         no        yes   \n",
       "1    OH             107        415  371-7191         no        yes   \n",
       "2    NJ             137        415  358-1921         no         no   \n",
       "3    OH              84        408  375-9999        yes         no   \n",
       "4    OK              75        415  330-6626        yes         no   \n",
       "\n",
       "   VMail Message  Day Mins  Day Calls  Day Charge   ...    Eve Calls  \\\n",
       "0             25     265.1        110       45.07   ...           99   \n",
       "1             26     161.6        123       27.47   ...          103   \n",
       "2              0     243.4        114       41.38   ...          110   \n",
       "3              0     299.4         71       50.90   ...           88   \n",
       "4              0     166.7        113       28.34   ...          122   \n",
       "\n",
       "   Eve Charge  Night Mins  Night Calls  Night Charge  Intl Mins  Intl Calls  \\\n",
       "0       16.78       244.7           91         11.01       10.0           3   \n",
       "1       16.62       254.4          103         11.45       13.7           3   \n",
       "2       10.30       162.6          104          7.32       12.2           5   \n",
       "3        5.26       196.9           89          8.86        6.6           7   \n",
       "4       12.61       186.9          121          8.41       10.1           3   \n",
       "\n",
       "   Intl Charge  CustServ Calls  Churn?  \n",
       "0         2.70               1  False.  \n",
       "1         3.70               1  False.  \n",
       "2         3.29               0  False.  \n",
       "3         1.78               2  False.  \n",
       "4         2.73               3  False.  \n",
       "\n",
       "[5 rows x 21 columns]"
      ]
     },
     "execution_count": 5,
     "metadata": {},
     "output_type": "execute_result"
    }
   ],
   "source": [
    "dfchurn.head()"
   ]
  },
  {
   "cell_type": "code",
   "execution_count": 7,
   "metadata": {},
   "outputs": [],
   "source": [
    "dfchurn[\"Int'l Plan\"] = dfchurn[\"Int'l Plan\"]== 'yes'\n",
    "dfchurn[\"VMail Plan\"] = dfchurn[\"VMail Plan\"]== 'yes'"
   ]
  },
  {
   "cell_type": "code",
   "execution_count": 8,
   "metadata": {},
   "outputs": [
    {
     "data": {
      "text/html": [
       "<div>\n",
       "<style scoped>\n",
       "    .dataframe tbody tr th:only-of-type {\n",
       "        vertical-align: middle;\n",
       "    }\n",
       "\n",
       "    .dataframe tbody tr th {\n",
       "        vertical-align: top;\n",
       "    }\n",
       "\n",
       "    .dataframe thead th {\n",
       "        text-align: right;\n",
       "    }\n",
       "</style>\n",
       "<table border=\"1\" class=\"dataframe\">\n",
       "  <thead>\n",
       "    <tr style=\"text-align: right;\">\n",
       "      <th></th>\n",
       "      <th>State</th>\n",
       "      <th>Account Length</th>\n",
       "      <th>Area Code</th>\n",
       "      <th>Phone</th>\n",
       "      <th>Int'l Plan</th>\n",
       "      <th>VMail Plan</th>\n",
       "      <th>VMail Message</th>\n",
       "      <th>Day Mins</th>\n",
       "      <th>Day Calls</th>\n",
       "      <th>Day Charge</th>\n",
       "      <th>...</th>\n",
       "      <th>Eve Calls</th>\n",
       "      <th>Eve Charge</th>\n",
       "      <th>Night Mins</th>\n",
       "      <th>Night Calls</th>\n",
       "      <th>Night Charge</th>\n",
       "      <th>Intl Mins</th>\n",
       "      <th>Intl Calls</th>\n",
       "      <th>Intl Charge</th>\n",
       "      <th>CustServ Calls</th>\n",
       "      <th>Churn?</th>\n",
       "    </tr>\n",
       "  </thead>\n",
       "  <tbody>\n",
       "    <tr>\n",
       "      <th>0</th>\n",
       "      <td>KS</td>\n",
       "      <td>128</td>\n",
       "      <td>415</td>\n",
       "      <td>382-4657</td>\n",
       "      <td>False</td>\n",
       "      <td>True</td>\n",
       "      <td>25</td>\n",
       "      <td>265.1</td>\n",
       "      <td>110</td>\n",
       "      <td>45.07</td>\n",
       "      <td>...</td>\n",
       "      <td>99</td>\n",
       "      <td>16.78</td>\n",
       "      <td>244.7</td>\n",
       "      <td>91</td>\n",
       "      <td>11.01</td>\n",
       "      <td>10.0</td>\n",
       "      <td>3</td>\n",
       "      <td>2.70</td>\n",
       "      <td>1</td>\n",
       "      <td>False.</td>\n",
       "    </tr>\n",
       "    <tr>\n",
       "      <th>1</th>\n",
       "      <td>OH</td>\n",
       "      <td>107</td>\n",
       "      <td>415</td>\n",
       "      <td>371-7191</td>\n",
       "      <td>False</td>\n",
       "      <td>True</td>\n",
       "      <td>26</td>\n",
       "      <td>161.6</td>\n",
       "      <td>123</td>\n",
       "      <td>27.47</td>\n",
       "      <td>...</td>\n",
       "      <td>103</td>\n",
       "      <td>16.62</td>\n",
       "      <td>254.4</td>\n",
       "      <td>103</td>\n",
       "      <td>11.45</td>\n",
       "      <td>13.7</td>\n",
       "      <td>3</td>\n",
       "      <td>3.70</td>\n",
       "      <td>1</td>\n",
       "      <td>False.</td>\n",
       "    </tr>\n",
       "    <tr>\n",
       "      <th>2</th>\n",
       "      <td>NJ</td>\n",
       "      <td>137</td>\n",
       "      <td>415</td>\n",
       "      <td>358-1921</td>\n",
       "      <td>False</td>\n",
       "      <td>False</td>\n",
       "      <td>0</td>\n",
       "      <td>243.4</td>\n",
       "      <td>114</td>\n",
       "      <td>41.38</td>\n",
       "      <td>...</td>\n",
       "      <td>110</td>\n",
       "      <td>10.30</td>\n",
       "      <td>162.6</td>\n",
       "      <td>104</td>\n",
       "      <td>7.32</td>\n",
       "      <td>12.2</td>\n",
       "      <td>5</td>\n",
       "      <td>3.29</td>\n",
       "      <td>0</td>\n",
       "      <td>False.</td>\n",
       "    </tr>\n",
       "    <tr>\n",
       "      <th>3</th>\n",
       "      <td>OH</td>\n",
       "      <td>84</td>\n",
       "      <td>408</td>\n",
       "      <td>375-9999</td>\n",
       "      <td>True</td>\n",
       "      <td>False</td>\n",
       "      <td>0</td>\n",
       "      <td>299.4</td>\n",
       "      <td>71</td>\n",
       "      <td>50.90</td>\n",
       "      <td>...</td>\n",
       "      <td>88</td>\n",
       "      <td>5.26</td>\n",
       "      <td>196.9</td>\n",
       "      <td>89</td>\n",
       "      <td>8.86</td>\n",
       "      <td>6.6</td>\n",
       "      <td>7</td>\n",
       "      <td>1.78</td>\n",
       "      <td>2</td>\n",
       "      <td>False.</td>\n",
       "    </tr>\n",
       "    <tr>\n",
       "      <th>4</th>\n",
       "      <td>OK</td>\n",
       "      <td>75</td>\n",
       "      <td>415</td>\n",
       "      <td>330-6626</td>\n",
       "      <td>True</td>\n",
       "      <td>False</td>\n",
       "      <td>0</td>\n",
       "      <td>166.7</td>\n",
       "      <td>113</td>\n",
       "      <td>28.34</td>\n",
       "      <td>...</td>\n",
       "      <td>122</td>\n",
       "      <td>12.61</td>\n",
       "      <td>186.9</td>\n",
       "      <td>121</td>\n",
       "      <td>8.41</td>\n",
       "      <td>10.1</td>\n",
       "      <td>3</td>\n",
       "      <td>2.73</td>\n",
       "      <td>3</td>\n",
       "      <td>False.</td>\n",
       "    </tr>\n",
       "  </tbody>\n",
       "</table>\n",
       "<p>5 rows × 21 columns</p>\n",
       "</div>"
      ],
      "text/plain": [
       "  State  Account Length  Area Code     Phone  Int'l Plan  VMail Plan  \\\n",
       "0    KS             128        415  382-4657       False        True   \n",
       "1    OH             107        415  371-7191       False        True   \n",
       "2    NJ             137        415  358-1921       False       False   \n",
       "3    OH              84        408  375-9999        True       False   \n",
       "4    OK              75        415  330-6626        True       False   \n",
       "\n",
       "   VMail Message  Day Mins  Day Calls  Day Charge   ...    Eve Calls  \\\n",
       "0             25     265.1        110       45.07   ...           99   \n",
       "1             26     161.6        123       27.47   ...          103   \n",
       "2              0     243.4        114       41.38   ...          110   \n",
       "3              0     299.4         71       50.90   ...           88   \n",
       "4              0     166.7        113       28.34   ...          122   \n",
       "\n",
       "   Eve Charge  Night Mins  Night Calls  Night Charge  Intl Mins  Intl Calls  \\\n",
       "0       16.78       244.7           91         11.01       10.0           3   \n",
       "1       16.62       254.4          103         11.45       13.7           3   \n",
       "2       10.30       162.6          104          7.32       12.2           5   \n",
       "3        5.26       196.9           89          8.86        6.6           7   \n",
       "4       12.61       186.9          121          8.41       10.1           3   \n",
       "\n",
       "   Intl Charge  CustServ Calls  Churn?  \n",
       "0         2.70               1  False.  \n",
       "1         3.70               1  False.  \n",
       "2         3.29               0  False.  \n",
       "3         1.78               2  False.  \n",
       "4         2.73               3  False.  \n",
       "\n",
       "[5 rows x 21 columns]"
      ]
     },
     "execution_count": 8,
     "metadata": {},
     "output_type": "execute_result"
    }
   ],
   "source": [
    "dfchurn.head()"
   ]
  },
  {
   "cell_type": "code",
   "execution_count": 9,
   "metadata": {},
   "outputs": [],
   "source": [
    "colswewant_cont=[ u'Account Length', u'VMail Message', u'Day Mins', u'Day Calls', u'Day Charge', u'Eve Mins', u'Eve Calls', u'Eve Charge', u'Night Mins', u'Night Calls', u'Night Charge', u'Intl Mins', u'Intl Calls', u'Intl Charge', u'CustServ Calls']\n",
    "colswewant_cat=[u\"Int'l Plan\", u'VMail Plan']"
   ]
  },
  {
   "cell_type": "code",
   "execution_count": 10,
   "metadata": {},
   "outputs": [
    {
     "name": "stdout",
     "output_type": "stream",
     "text": [
      "['Account Length', 'VMail Message', 'Day Mins', 'Day Calls', 'Day Charge', 'Eve Mins', 'Eve Calls', 'Eve Charge', 'Night Mins', 'Night Calls', 'Night Charge', 'Intl Mins', 'Intl Calls', 'Intl Charge', 'CustServ Calls']\n",
      "[\"Int'l Plan\", 'VMail Plan']\n"
     ]
    }
   ],
   "source": [
    "print(colswewant_cont)\n",
    "print(colswewant_cat)"
   ]
  },
  {
   "cell_type": "code",
   "execution_count": 12,
   "metadata": {},
   "outputs": [],
   "source": [
    "ychurn = np.where(dfchurn['Churn?']=='True.',1,0)"
   ]
  },
  {
   "cell_type": "code",
   "execution_count": 13,
   "metadata": {},
   "outputs": [],
   "source": [
    "# let's say the cost are as under-written\n",
    "admin_cost = 3\n",
    "offer_cost = 100\n",
    "clv = 1000 \n",
    "#customer lifetime value "
   ]
  },
  {
   "cell_type": "code",
   "execution_count": 14,
   "metadata": {},
   "outputs": [],
   "source": [
    "# cost-confusion matrix element according to various costs \n",
    "conv = 0.5 #fraction that except offer\n",
    "tnc = 0.\n",
    "fpc = admin_cost + offer_cost\n",
    "fnc = clv\n",
    "tpc = conv*offer_cost + (1. - conv)*(clv+admin_cost)"
   ]
  },
  {
   "cell_type": "code",
   "execution_count": 15,
   "metadata": {},
   "outputs": [
    {
     "name": "stdout",
     "output_type": "stream",
     "text": [
      "[[   0.   103. ]\n",
      " [1000.   551.5]]\n"
     ]
    }
   ],
   "source": [
    "cost = np.array([[tnc,fpc],[fnc,tpc]])\n",
    "print (cost)"
   ]
  },
  {
   "cell_type": "code",
   "execution_count": 16,
   "metadata": {},
   "outputs": [],
   "source": [
    "# function for avg cost per person \n",
    "from sklearn.metrics import confusion_matrix\n",
    "def avg_cost(y,ypred, cost):\n",
    "    c = confusion_matrix(y, ypred)\n",
    "    score = np.sum(cost*c)/np.sum(c)\n",
    "    return score "
   ]
  },
  {
   "cell_type": "code",
   "execution_count": 67,
   "metadata": {},
   "outputs": [
    {
     "name": "stderr",
     "output_type": "stream",
     "text": [
      "C:\\ProgramData\\Anaconda3\\lib\\site-packages\\sklearn\\model_selection\\_split.py:2026: FutureWarning: From version 0.21, test_size will always complement train_size unless both are specified.\n",
      "  FutureWarning)\n"
     ]
    }
   ],
   "source": [
    "from sklearn.model_selection import train_test_split\n",
    "churntrain, churntest = train_test_split(range(dfchurn.shape[0]),train_size= 0.6)\n"
   ]
  },
  {
   "cell_type": "code",
   "execution_count": 71,
   "metadata": {},
   "outputs": [
    {
     "name": "stdout",
     "output_type": "stream",
     "text": [
      "1334\n"
     ]
    }
   ],
   "source": [
    "testchurner = dfchurn['Churn?'][churntest].values =='True.'\n",
    "print(testchurner.size)\n"
   ]
  },
  {
   "cell_type": "code",
   "execution_count": 144,
   "metadata": {},
   "outputs": [],
   "source": [
    "Xtrain=X.iloc[churntrain]\n",
    "Xtest =y[churntrain]\n",
    "ytrain = X.iloc[churntest]\n",
    "ytest = y[churntest]"
   ]
  },
  {
   "cell_type": "code",
   "execution_count": null,
   "metadata": {},
   "outputs": [],
   "source": []
  },
  {
   "cell_type": "code",
   "execution_count": 76,
   "metadata": {},
   "outputs": [
    {
     "name": "stdout",
     "output_type": "stream",
     "text": [
      "[0 0 0 ... 0 0 0]\n",
      "[[1137    0]\n",
      " [ 197    0]]\n",
      "147.67616191904048\n"
     ]
    }
   ],
   "source": [
    "pred = np.zeros(testchurner.size, dtype = 'int')\n",
    "print(pred)\n",
    "print(confusion_matrix(testchurner,pred))\n",
    "print(avg_cost(testchurner,pred,cost))"
   ]
  },
  {
   "cell_type": "code",
   "execution_count": 77,
   "metadata": {},
   "outputs": [
    {
     "name": "stdout",
     "output_type": "stream",
     "text": [
      "[1 1 1 ... 1 1 1]\n",
      "[[1137    0]\n",
      " [ 197    0]]\n",
      "169.23275862068965\n"
     ]
    }
   ],
   "source": [
    "pred1 = np.ones(testchurner.size, dtype = 'int')\n",
    "print(pred1)\n",
    "print(confusion_matrix(testchurner,pred))\n",
    "print(avg_cost(testchurner,pred1,cost))"
   ]
  },
  {
   "cell_type": "code",
   "execution_count": 117,
   "metadata": {},
   "outputs": [],
   "source": [
    "from sklearn.naive_bayes import GaussianNB\n",
    "clfgnb = GaussianNB()"
   ]
  },
  {
   "cell_type": "code",
   "execution_count": 147,
   "metadata": {},
   "outputs": [],
   "source": [
    "Xtrain=X.iloc[churntrain]\n",
    "ytrain = y[churntrain]\n",
    "Xtest = X.iloc[churntest]\n",
    "ytest = y[churntest]"
   ]
  },
  {
   "cell_type": "code",
   "execution_count": 148,
   "metadata": {},
   "outputs": [],
   "source": [
    "clf = clfgnb.fit(Xtrain,ytrain)"
   ]
  },
  {
   "cell_type": "code",
   "execution_count": 151,
   "metadata": {},
   "outputs": [
    {
     "name": "stdout",
     "output_type": "stream",
     "text": [
      "0.8664332166083042\n",
      "0.8650674662668666\n"
     ]
    }
   ],
   "source": [
    "training_accuracy = clf.score(Xtrain, ytrain)\n",
    "test_accuracy = clf.score(Xtest, ytest)\n",
    "print(training_accuracy)\n",
    "print(test_accuracy)"
   ]
  },
  {
   "cell_type": "code",
   "execution_count": 152,
   "metadata": {},
   "outputs": [
    {
     "data": {
      "text/plain": [
       "array([[1042,   95],\n",
       "       [  85,  112]], dtype=int64)"
      ]
     },
     "execution_count": 152,
     "metadata": {},
     "output_type": "execute_result"
    }
   ],
   "source": [
    "confusionmatrix1 = confusion_matrix(ytest, clf.predict(Xtest))"
   ]
  },
  {
   "cell_type": "code",
   "execution_count": 154,
   "metadata": {},
   "outputs": [
    {
     "data": {
      "text/plain": [
       "117.35607196401799"
      ]
     },
     "execution_count": 154,
     "metadata": {},
     "output_type": "execute_result"
    }
   ],
   "source": [
    "avergae_cost(ytest, clf.predict(Xtest),cost)"
   ]
  },
  {
   "cell_type": "code",
   "execution_count": 155,
   "metadata": {},
   "outputs": [],
   "source": [
    "def repredict(est,t,xtest):\n",
    "    probs = est.predict_proba(xtest)\n",
    "    p0 = probs[:,0]\n",
    "    p1 = probs[:,1]\n",
    "    ypred =(p1 >=t)*1\n",
    "    return ypred\n",
    "\n",
    "\n",
    "\n",
    "\n"
   ]
  },
  {
   "cell_type": "code",
   "execution_count": 190,
   "metadata": {},
   "outputs": [
    {
     "data": {
      "text/plain": [
       "110.54010494752623"
      ]
     },
     "execution_count": 190,
     "metadata": {},
     "output_type": "execute_result"
    }
   ],
   "source": [
    "avg_cost(ytest, repredict(clf, 0.3, Xtest),cost)\n"
   ]
  },
  {
   "cell_type": "code",
   "execution_count": 194,
   "metadata": {},
   "outputs": [],
   "source": [
    "from sklearn.metrics import roc_curve,auc"
   ]
  },
  {
   "cell_type": "code",
   "execution_count": null,
   "metadata": {},
   "outputs": [],
   "source": []
  },
  {
   "cell_type": "code",
   "execution_count": null,
   "metadata": {},
   "outputs": [],
   "source": []
  },
  {
   "cell_type": "code",
   "execution_count": null,
   "metadata": {},
   "outputs": [],
   "source": []
  },
  {
   "cell_type": "code",
   "execution_count": 208,
   "metadata": {},
   "outputs": [],
   "source": [
    "fpr,tpr,thresholds = roc_curve(ytest,clf.predict_proba(Xtest)[:,1])\n"
   ]
  },
  {
   "cell_type": "code",
   "execution_count": 296,
   "metadata": {},
   "outputs": [
    {
     "data": {
      "text/plain": [
       "<matplotlib.legend.Legend at 0x185ead56780>"
      ]
     },
     "execution_count": 296,
     "metadata": {},
     "output_type": "execute_result"
    },
    {
     "data": {
      "image/png": "[encoded data removed]",
      "text/plain": [
       "<Figure size 1080x720 with 1 Axes>"
      ]
     },
     "metadata": {},
     "output_type": "display_data"
    }
   ],
   "source": [
    "ax = plt.gca()\n",
    "'gnb'\n",
    "roc_auc = auc(fpr, tpr)    \n",
    "ax.plot(fpr, tpr, '.-', alpha=0.3, label='ROC curve for %s (area = %0.2f)' % ('gnb', roc_auc))     \n",
    "label_kwargs = {}\n",
    "label_kwargs['bbox'] = dict(boxstyle='round,pad=0.5', fc='yellow', alpha=0.3)\n",
    "\n",
    "for k in range(0,fpr.shape[0],50):\n",
    "    threshold = np.round(thresholds[k],2)\n",
    "    ax.annotate(threshold, (fpr[k], tpr[k]), **label_kwargs)\n",
    "\n",
    "\n",
    "ax.plot([0,1],[0,1], 'k--')\n",
    "ax.set_xlim([0.0,1.0])\n",
    "ax.set_ylim(0.0,1.05)\n",
    "ax.set_xlabel('False positive Rate')\n",
    "ax.set_ylabel('True positive Rate')\n",
    "ax.legend(loc=\"lower right\")\n",
    "\n",
    "\n",
    "    "
   ]
  },
  {
   "cell_type": "code",
   "execution_count": null,
   "metadata": {},
   "outputs": [],
   "source": []
  },
  {
   "cell_type": "code",
   "execution_count": 254,
   "metadata": {},
   "outputs": [
    {
     "name": "stdout",
     "output_type": "stream",
     "text": [
      "{'Xtrain':       Account Length  VMail Message  Day Mins  Day Calls  Day Charge  \\\n",
      "3218             104             18     182.1         66       30.96   \n",
      "2571             103              0     190.9         62       32.45   \n",
      "2485              79             17     236.7         95       40.24   \n",
      "3055             149              0     175.4         80       29.82   \n",
      "1274             111              0     176.4         62       29.99   \n",
      "3162              81              0     129.9        121       22.08   \n",
      "2836             112              0     101.1        119       17.19   \n",
      "1641              54              0     214.1         77       36.40   \n",
      "188              164              0     160.6        111       27.30   \n",
      "1993              86              0     216.3         96       36.77   \n",
      "1944             131             30     174.0        118       29.58   \n",
      "303              158              0     158.0        106       26.86   \n",
      "3058             112              0     189.4         83       32.20   \n",
      "1847              54             39     143.9         73       24.46   \n",
      "2813              52              0     129.3         80       21.98   \n",
      "2470             189              0     227.8        124       38.73   \n",
      "2386             120              0     202.0        123       34.34   \n",
      "1566              80             38     236.6         69       40.22   \n",
      "909              127             25      82.2         95       13.97   \n",
      "2741              21              0     223.2        142       37.94   \n",
      "1893              68              0     249.9        127       42.48   \n",
      "3038             121             28     110.0         94       18.70   \n",
      "28                20              0     190.0        109       32.30   \n",
      "1321              51              0     197.8         60       33.63   \n",
      "1986              70              0       7.9        100        1.34   \n",
      "364              194              0     162.3         88       27.59   \n",
      "748              106              0     220.7        120       37.52   \n",
      "3199             152              0     161.4         84       27.44   \n",
      "3147              62              0     245.3         91       41.70   \n",
      "963              142             30     154.0         75       26.18   \n",
      "...              ...            ...       ...        ...         ...   \n",
      "1828             102              0     156.5         67       26.61   \n",
      "1195             135              0     194.8         97       33.12   \n",
      "1813              89              0     192.1         83       32.66   \n",
      "1265              95             39     260.8        130       44.34   \n",
      "358               37             39     149.7        122       25.45   \n",
      "492               92              0     130.7        113       22.22   \n",
      "2216              58              0     238.9        107       40.61   \n",
      "932               74              0     200.4         87       34.07   \n",
      "1570             112              0     167.6        100       28.49   \n",
      "2248             152             20     239.1        105       40.65   \n",
      "1931              81              0     250.6         85       42.60   \n",
      "2301             104              0     144.5        107       24.57   \n",
      "1504              65              0     153.9        117       26.16   \n",
      "944               81             28     167.9        147       28.54   \n",
      "1775             142             24     239.8        103       40.77   \n",
      "1745              68              0     226.7         94       38.54   \n",
      "1077             108              0     154.2        123       26.21   \n",
      "1237              56              0     150.9         79       25.65   \n",
      "2403              21              0      91.9        109       15.62   \n",
      "520              112              0     261.4        108       44.44   \n",
      "1546              56              0     137.2        111       23.32   \n",
      "2161              99              0     182.6         83       31.04   \n",
      "2661             197              0     233.9         96       39.76   \n",
      "2822             155              0     163.1         94       27.73   \n",
      "176               62              0     147.1         91       25.01   \n",
      "1833              70              0     208.7         97       35.48   \n",
      "1526             155             23     243.9        112       41.46   \n",
      "544               79             31     103.1         90       17.53   \n",
      "2902              61             15     252.4        106       42.91   \n",
      "1102             111              0     176.9        128       30.07   \n",
      "\n",
      "      Eve Mins  Eve Calls  Eve Charge  Night Mins  Night Calls  Night Charge  \\\n",
      "3218     213.6         65       18.16       193.0          108          8.69   \n",
      "2571     226.6         53       19.26       230.1           96         10.35   \n",
      "2485     263.5         56       22.40       259.6          107         11.68   \n",
      "3055     197.4        127       16.78       188.2          102          8.47   \n",
      "1274     201.0        124       17.09       150.4          138          6.77   \n",
      "3162     230.1        105       19.56       140.5          123          6.32   \n",
      "2836     214.4         67       18.22       179.5          112          8.08   \n",
      "1641     240.5         94       20.44       188.9           75          8.50   \n",
      "188      163.2        126       13.87       187.1          112          8.42   \n",
      "1993     266.3         77       22.64       214.0          110          9.63   \n",
      "1944     205.3         81       17.45       218.2           90          9.82   \n",
      "303      292.5        114       24.86       241.1           89         10.85   \n",
      "3058     219.0         89       18.62       168.0          116          7.56   \n",
      "1847     210.3        117       17.88       129.2          117          5.81   \n",
      "2813     142.7        101       12.13       258.3           89         11.62   \n",
      "2470     169.5        112       14.41       201.1           91          9.05   \n",
      "2386     184.3         78       15.67       176.0           89          7.92   \n",
      "1566     197.5         68       16.79       209.5          102          9.43   \n",
      "909      163.3        109       13.88       264.9          104         11.92   \n",
      "2741     216.5        114       18.40       214.7          111          9.66   \n",
      "1893     254.5        118       21.63       273.2           98         12.29   \n",
      "3038     141.5         76       12.03       237.3           87         10.68   \n",
      "28       258.2         84       21.95       181.5          102          8.17   \n",
      "1321     221.0         64       18.79       168.6          134          7.59   \n",
      "1986     136.4         83       11.59       156.6           89          7.05   \n",
      "364      213.7        118       18.16       192.1           81          8.64   \n",
      "748      270.2         95       22.97       121.6          113          5.47   \n",
      "3199     163.6         88       13.91       153.2          121          6.89   \n",
      "3147     122.9        130       10.45       228.4          102         10.28   \n",
      "963      165.8         97       14.09       270.0           83         12.15   \n",
      "...        ...        ...         ...         ...          ...           ...   \n",
      "1828     204.3        103       17.37       141.9           72          6.39   \n",
      "1195     235.3        118       20.00       174.4          126          7.85   \n",
      "1813     163.6         88       13.91       169.7          138          7.64   \n",
      "1265     213.4        111       18.14       195.6           97          8.80   \n",
      "358      211.1         75       17.94       114.3           90          5.14   \n",
      "492      260.6        122       22.15       244.2           98         10.99   \n",
      "2216     187.2         88       15.91       181.1           84          8.15   \n",
      "932      309.2        105       26.28       152.1          118          6.84   \n",
      "1570     154.5         90       13.13       281.4          107         12.66   \n",
      "2248     209.1        111       17.77       268.2          130         12.07   \n",
      "1931     187.9         50       15.97       120.3          131          5.41   \n",
      "2301     180.5         85       15.34       226.0           94         10.17   \n",
      "1504     220.1        122       18.71       280.5          147         12.62   \n",
      "944      190.7        105       16.21       193.0          103          8.69   \n",
      "1775     285.9         65       24.30       256.7          106         11.55   \n",
      "1745     168.4        129       14.31       188.7          117          8.49   \n",
      "1077     112.3         86        9.55       246.4           75         11.09   \n",
      "1237     161.8         87       13.75       167.7          115          7.55   \n",
      "2403     198.4        111       16.86       171.7          125          7.73   \n",
      "520      154.5        102       13.13       130.9           90          5.89   \n",
      "1546     165.9        119       14.10       182.3           72          8.20   \n",
      "2161     154.5        111       13.13       196.0           57          8.82   \n",
      "2661     218.9        111       18.61       182.9          109          8.23   \n",
      "2822     291.7        108       24.79        96.4          111          4.34   \n",
      "176      190.4        107       16.18       195.2          115          8.78   \n",
      "1833     275.5         83       23.42       182.5          122          8.21   \n",
      "1526     133.0        106       11.31       213.7          123          9.62   \n",
      "544      243.0        135       20.66        76.4           92          3.44   \n",
      "2902     187.8         69       15.96       259.6          137         11.68   \n",
      "1102     102.8         56        8.74       213.7           84          9.62   \n",
      "\n",
      "      Intl Mins  Intl Calls  Intl Charge  CustServ Calls  Int'l Plan  \\\n",
      "3218       13.4           9         3.62               2       False   \n",
      "2571        7.8           3         2.11               2       False   \n",
      "2485       12.0           4         3.24               1       False   \n",
      "3055        9.7           2         2.62               2       False   \n",
      "1274       11.2           2         3.02               0       False   \n",
      "3162       13.3           3         3.59               0       False   \n",
      "2836       10.3           5         2.78               2       False   \n",
      "1641       10.1           3         2.73               1        True   \n",
      "188         9.0           3         2.43               1       False   \n",
      "1993        4.5           3         1.22               0       False   \n",
      "1944        6.7           3         1.81               1       False   \n",
      "303         9.1           4         2.46               1       False   \n",
      "3058        7.1           8         1.92               3       False   \n",
      "1847       12.5           8         3.38               2       False   \n",
      "2813       12.3           4         3.32               3       False   \n",
      "2470        5.6           4         1.51               3       False   \n",
      "2386        7.4           2         2.00               2        True   \n",
      "1566        9.5          10         2.57               2       False   \n",
      "909         5.1           6         1.38               0       False   \n",
      "2741       12.4           2         3.35               1       False   \n",
      "1893        8.9           6         2.40               2       False   \n",
      "3038        6.4           3         1.73               2       False   \n",
      "28          6.3           6         1.70               0       False   \n",
      "1321        8.9           5         2.40               1       False   \n",
      "1986       12.1           1         3.27               0       False   \n",
      "364        10.9           2         2.94               0       False   \n",
      "748         8.7           5         2.35               1       False   \n",
      "3199       11.8           5         3.19               1       False   \n",
      "3147        8.5           4         2.30               4       False   \n",
      "963        10.8           5         2.92               1       False   \n",
      "...         ...         ...          ...             ...         ...   \n",
      "1828        9.9           2         2.67               2       False   \n",
      "1195       11.0           3         2.97               1       False   \n",
      "1813        6.1           3         1.65               0       False   \n",
      "1265       10.1           5         2.73               1       False   \n",
      "358         9.2           4         2.48               1        True   \n",
      "492         9.4           2         2.54               2        True   \n",
      "2216       11.8           3         3.19               2       False   \n",
      "932        10.0           2         2.70               1       False   \n",
      "1570       17.3           3         4.67               2       False   \n",
      "2248       13.3           3         3.59               5       False   \n",
      "1931        7.8           5         2.11               1        True   \n",
      "2301       17.0           6         4.59               2       False   \n",
      "1504        8.5           3         2.30               2       False   \n",
      "944         9.2           6         2.48               4       False   \n",
      "1775        9.5           4         2.57               0       False   \n",
      "1745       10.2           1         2.75               0       False   \n",
      "1077       15.4           4         4.16               4       False   \n",
      "1237       11.7           5         3.16               3       False   \n",
      "2403       13.0           7         3.51               2       False   \n",
      "520        11.6           2         3.13               1       False   \n",
      "1546       14.3           4         3.86               1       False   \n",
      "2161       12.1           5         3.27               0       False   \n",
      "2661        9.5           3         2.57               0       False   \n",
      "2822       11.2           3         3.02               0        True   \n",
      "176        12.2           3         3.29               0       False   \n",
      "1833        8.0           3         2.16               2       False   \n",
      "1526       13.4          11         3.62               2       False   \n",
      "544        12.2           8         3.29               3       False   \n",
      "2902       10.0           3         2.70               2       False   \n",
      "1102       10.5           2         2.84               4       False   \n",
      "\n",
      "      VMail Plan  \n",
      "3218        True  \n",
      "2571       False  \n",
      "2485        True  \n",
      "3055       False  \n",
      "1274       False  \n",
      "3162       False  \n",
      "2836       False  \n",
      "1641       False  \n",
      "188        False  \n",
      "1993       False  \n",
      "1944        True  \n",
      "303        False  \n",
      "3058       False  \n",
      "1847        True  \n",
      "2813       False  \n",
      "2470       False  \n",
      "2386       False  \n",
      "1566        True  \n",
      "909         True  \n",
      "2741       False  \n",
      "1893       False  \n",
      "3038        True  \n",
      "28         False  \n",
      "1321       False  \n",
      "1986       False  \n",
      "364        False  \n",
      "748        False  \n",
      "3199       False  \n",
      "3147       False  \n",
      "963         True  \n",
      "...          ...  \n",
      "1828       False  \n",
      "1195       False  \n",
      "1813       False  \n",
      "1265        True  \n",
      "358         True  \n",
      "492        False  \n",
      "2216       False  \n",
      "932        False  \n",
      "1570       False  \n",
      "2248        True  \n",
      "1931       False  \n",
      "2301       False  \n",
      "1504       False  \n",
      "944         True  \n",
      "1775        True  \n",
      "1745       False  \n",
      "1077       False  \n",
      "1237       False  \n",
      "2403       False  \n",
      "520        False  \n",
      "1546       False  \n",
      "2161       False  \n",
      "2661       False  \n",
      "2822       False  \n",
      "176        False  \n",
      "1833       False  \n",
      "1526        True  \n",
      "544         True  \n",
      "2902        True  \n",
      "1102       False  \n",
      "\n",
      "[1999 rows x 17 columns], 'Xtest':       Account Length  VMail Message  Day Mins  Day Calls  Day Charge  \\\n",
      "2488              94              0     181.3        135       30.82   \n",
      "1325              17             31     153.1        115       26.03   \n",
      "541              150             29     209.9         77       35.68   \n",
      "1654              84             12      89.7         87       15.25   \n",
      "607               63             29     142.3        107       24.19   \n",
      "2639              63             33     184.2        111       31.31   \n",
      "1220             180              0     139.0         96       23.63   \n",
      "1843             105              0     166.1         93       28.24   \n",
      "2224              68              0     143.6         80       24.41   \n",
      "1567              94              0      85.9        113       14.60   \n",
      "2979              99              0     135.7        107       23.07   \n",
      "275               83              0     221.4        103       37.64   \n",
      "1581              91             34     175.3         96       29.80   \n",
      "883               42              0     146.3         84       24.87   \n",
      "376              138              0     170.5         87       28.99   \n",
      "1379              36              0     202.4        115       34.41   \n",
      "1499              86              0     136.4        104       23.19   \n",
      "2426              75              0     111.7        121       18.99   \n",
      "496               93             36     178.7        134       30.38   \n",
      "510              193             17     124.0        102       21.08   \n",
      "2313             160              0     256.0        111       43.52   \n",
      "447               55              0     286.7        100       48.74   \n",
      "2095              98              0     236.2        122       40.15   \n",
      "1855              67              0     109.1        134       18.55   \n",
      "939               56              0      91.1         90       15.49   \n",
      "370              135              0     201.8         81       34.31   \n",
      "2883             123              0     209.4         49       35.60   \n",
      "2362             101              0     217.7        118       37.01   \n",
      "1149              37              0     106.6         76       18.12   \n",
      "3289              39              0     187.2        110       31.82   \n",
      "...              ...            ...       ...        ...         ...   \n",
      "1113             152              0     206.3         98       35.07   \n",
      "3292             114              0     203.8         85       34.65   \n",
      "964                9             31     193.8        130       32.95   \n",
      "2269             138             37      75.8        102       12.89   \n",
      "675               43              0     241.9        101       41.12   \n",
      "2311             141              0     151.5        104       25.76   \n",
      "3164              52              0     204.4         97       34.75   \n",
      "1830              50              0     301.7         82       51.29   \n",
      "1108             151              0     235.9        104       40.10   \n",
      "3176             122              0     141.4        128       24.04   \n",
      "1395             103              0     189.8        110       32.27   \n",
      "2288              34              0     193.7         74       32.93   \n",
      "3072              75              0     305.1        106       51.87   \n",
      "1424              78              0     140.7         77       23.92   \n",
      "1684             115              0      99.7        107       16.95   \n",
      "2375              51              0      51.8        107        8.81   \n",
      "44                64              0     154.0         67       26.18   \n",
      "682              189             38     256.7         98       43.64   \n",
      "500              126             23     114.3        102       19.43   \n",
      "1462              37              0     199.5        107       33.92   \n",
      "2812              82             33     137.8         95       23.43   \n",
      "2173              47              0      47.8        120        8.13   \n",
      "341              101              0     183.9        115       31.26   \n",
      "735              169              0      57.1         98        9.71   \n",
      "387               54              0     210.5        102       35.79   \n",
      "1375              84             42     214.3        112       36.43   \n",
      "263               78              0     168.3        110       28.61   \n",
      "1968              72              0     177.1         97       30.11   \n",
      "2628              37              0     221.0        126       37.57   \n",
      "3179             110              0     192.6        102       32.74   \n",
      "\n",
      "      Eve Mins  Eve Calls  Eve Charge  Night Mins  Night Calls  Night Charge  \\\n",
      "2488     182.4        108       15.50       180.6          103          8.13   \n",
      "1325     185.9         59       15.80       224.3          102         10.09   \n",
      "541      158.0         52       13.43       141.9          113          6.39   \n",
      "1654     138.6         73       11.78       165.8          114          7.46   \n",
      "607      118.7         56       10.09       240.1           91         10.80   \n",
      "2639     312.6         89       26.57       264.0           55         11.88   \n",
      "1220     224.9         64       19.12       170.8          118          7.69   \n",
      "1843     175.9        106       14.95       243.5           55         10.96   \n",
      "2224     134.3         65       11.42       215.6           84          9.70   \n",
      "1567     226.7         91       19.27       279.6          110         12.58   \n",
      "2979     208.4        103       17.71       209.0           95          9.40   \n",
      "275      231.8        103       19.70       122.5          100          5.51   \n",
      "1581     262.3        122       22.30       143.9           76          6.48   \n",
      "883      255.9        113       21.75        45.0          117          2.03   \n",
      "376      118.2        116       10.05       187.9          111          8.46   \n",
      "1379     230.7        115       19.61       202.0          127          9.09   \n",
      "1499     202.5        110       17.21       230.7           86         10.38   \n",
      "2426     237.3        119       20.17       253.5          110         11.41   \n",
      "496      178.6        102       15.18       126.8           82          5.71   \n",
      "510      202.9         81       17.25       205.1          129          9.23   \n",
      "2313     187.4         61       15.93       119.1           81          5.36   \n",
      "447      134.4        121       11.42       192.9          122          8.68   \n",
      "2095     189.4        110       16.10       153.6          104          6.91   \n",
      "1855     142.3         76       12.10        91.2           86          4.10   \n",
      "939      179.3        115       15.24       300.7           89         13.53   \n",
      "370      225.0        114       19.13       204.4           82          9.20   \n",
      "2883     237.4        117       20.18       239.2           98         10.76   \n",
      "2362     231.7        128       19.69       185.3          128          8.34   \n",
      "1149     147.4         89       12.53       235.8          113         10.61   \n",
      "3289     114.7        116        9.75       104.7           83          4.71   \n",
      "...        ...        ...         ...         ...          ...           ...   \n",
      "1113     292.8         82       24.89        43.7          121          1.97   \n",
      "3292      87.8        110        7.46       166.2          122          7.48   \n",
      "964      202.6         98       17.22       191.2          102          8.60   \n",
      "2269     173.6        147       14.76       162.6           96          7.32   \n",
      "675      129.4        121       11.00       264.8          104         11.92   \n",
      "2311     242.2        114       20.59       304.2          109         13.69   \n",
      "3164     273.2        128       23.22       179.6          118          8.08   \n",
      "1830     167.1        118       14.20        72.2           89          3.25   \n",
      "1108      80.6         91        6.85       212.8          116          9.58   \n",
      "3176     146.4         70       12.44       123.0           75          5.54   \n",
      "1395     115.5         83        9.82       191.3          103          8.61   \n",
      "2288     126.9         84       10.79       221.2          166          9.95   \n",
      "3072     188.0        115       15.98       235.4          116         10.59   \n",
      "1424     195.2        114       16.59       252.9          107         11.38   \n",
      "1684     145.1         96       12.33       149.4           99          6.72   \n",
      "2375     230.2        104       19.57       227.5          118         10.24   \n",
      "44       225.8        118       19.19       265.3           86         11.94   \n",
      "682      150.5        120       12.79       123.0           87          5.54   \n",
      "500      190.3        103       16.18       240.4          111         10.82   \n",
      "1462     207.5        110       17.64        83.9          123          3.78   \n",
      "2812     235.5        128       20.02       268.1           70         12.06   \n",
      "2173     178.9        123       15.21       152.6           96          6.87   \n",
      "341      255.9        101       21.75       275.0          145         12.38   \n",
      "735      199.7         78       16.97       274.7          103         12.36   \n",
      "387      204.5         83       17.38       127.8           53          5.75   \n",
      "1375     188.2        107       16.00       333.5          117         15.01   \n",
      "263      221.2         73       18.80       241.0          136         10.85   \n",
      "1968     184.7        105       15.70       174.1           94          7.83   \n",
      "2628     204.5        110       17.38       118.0           98          5.31   \n",
      "3179     178.9        118       15.21       214.6           74          9.66   \n",
      "\n",
      "      Intl Mins  Intl Calls  Intl Charge  CustServ Calls  Int'l Plan  \\\n",
      "2488        6.7           2         1.81               0       False   \n",
      "1325       10.0           1         2.70               6       False   \n",
      "541         6.6           1         1.78               0       False   \n",
      "1654       10.7           2         2.89               1       False   \n",
      "607         6.6           8         1.78               1       False   \n",
      "2639       12.2           4         3.29               1       False   \n",
      "1220       15.7           5         4.24               2       False   \n",
      "1843       16.2           3         4.37               2       False   \n",
      "2224       15.5           5         4.19               2       False   \n",
      "1567       15.6          16         4.21               0       False   \n",
      "2979        8.8           3         2.38               7       False   \n",
      "275         9.8           5         2.65               3       False   \n",
      "1581        5.6          11         1.51               1       False   \n",
      "883         8.0          12         2.16               1       False   \n",
      "376        11.2           7         3.02               2       False   \n",
      "1379       10.2           2         2.75               3       False   \n",
      "1499       11.5           1         3.11               3       False   \n",
      "2426       13.1           6         3.54               1       False   \n",
      "496         8.0           4         2.16               2       False   \n",
      "510        12.3           3         3.32               1       False   \n",
      "2313       11.5           4         3.11               3       False   \n",
      "447         6.9           5         1.86               2       False   \n",
      "2095       13.3           4         3.59               0       False   \n",
      "1855       10.9           5         2.94               2       False   \n",
      "939        11.9           8         3.21               2       False   \n",
      "370        10.3           6         2.78               1       False   \n",
      "2883        9.8          11         2.65               1       False   \n",
      "2362        0.0           0         0.00               3       False   \n",
      "1149        9.6           8         2.59               2        True   \n",
      "3289       13.2           5         3.56               1       False   \n",
      "...         ...         ...          ...             ...         ...   \n",
      "1113       10.6           4         2.86               1       False   \n",
      "3292       11.7           4         3.16               1       False   \n",
      "964        13.3           2         3.59               1       False   \n",
      "2269        8.2          13         2.21               0       False   \n",
      "675         5.9           3         1.59               1       False   \n",
      "2311       10.8           2         2.92               1       False   \n",
      "3164       11.0           5         2.97               1       False   \n",
      "1830       10.5           6         2.84               1       False   \n",
      "1108        5.8           2         1.57               3       False   \n",
      "3176        8.1           4         2.19               0       False   \n",
      "1395       12.2           4         3.29               0       False   \n",
      "2288        8.8           4         2.38               0       False   \n",
      "3072        8.5           5         2.30               0       False   \n",
      "1424       11.7           5         3.16               0       False   \n",
      "1684       14.1           4         3.81               2       False   \n",
      "2375       10.4           4         2.81               2       False   \n",
      "44          3.5           3         0.95               1       False   \n",
      "682        11.4           3         3.08               3       False   \n",
      "500        12.6           7         3.40               3       False   \n",
      "1462        8.1           4         2.19               2       False   \n",
      "2812       11.0           6         2.97               2       False   \n",
      "2173       13.3           7         3.59               0        True   \n",
      "341        10.8          11         2.92               1       False   \n",
      "735         6.5           6         1.76               3        True   \n",
      "387         8.5           5         2.30               1       False   \n",
      "1375       11.3          10         3.05               0       False   \n",
      "263        12.5           1         3.38               1       False   \n",
      "1968        8.0           6         2.16               1       False   \n",
      "2628        6.8           3         1.84               4       False   \n",
      "3179        9.4           4         2.54               1       False   \n",
      "\n",
      "      VMail Plan  \n",
      "2488       False  \n",
      "1325        True  \n",
      "541         True  \n",
      "1654        True  \n",
      "607         True  \n",
      "2639        True  \n",
      "1220       False  \n",
      "1843       False  \n",
      "2224       False  \n",
      "1567       False  \n",
      "2979       False  \n",
      "275        False  \n",
      "1581        True  \n",
      "883        False  \n",
      "376        False  \n",
      "1379       False  \n",
      "1499       False  \n",
      "2426       False  \n",
      "496         True  \n",
      "510         True  \n",
      "2313       False  \n",
      "447        False  \n",
      "2095       False  \n",
      "1855       False  \n",
      "939        False  \n",
      "370        False  \n",
      "2883       False  \n",
      "2362       False  \n",
      "1149       False  \n",
      "3289       False  \n",
      "...          ...  \n",
      "1113       False  \n",
      "3292       False  \n",
      "964         True  \n",
      "2269        True  \n",
      "675        False  \n",
      "2311       False  \n",
      "3164       False  \n",
      "1830       False  \n",
      "1108       False  \n",
      "3176       False  \n",
      "1395       False  \n",
      "2288       False  \n",
      "3072       False  \n",
      "1424       False  \n",
      "1684       False  \n",
      "2375       False  \n",
      "44         False  \n",
      "682         True  \n",
      "500         True  \n",
      "1462       False  \n",
      "2812        True  \n",
      "2173       False  \n",
      "341        False  \n",
      "735        False  \n",
      "387        False  \n",
      "1375        True  \n",
      "263        False  \n",
      "1968       False  \n",
      "2628       False  \n",
      "3179       False  \n",
      "\n",
      "[1334 rows x 17 columns], 'ytrain': 3218    False\n",
      "2571    False\n",
      "2485    False\n",
      "3055    False\n",
      "1274    False\n",
      "3162    False\n",
      "2836    False\n",
      "1641    False\n",
      "188     False\n",
      "1993    False\n",
      "1944    False\n",
      "303     False\n",
      "3058    False\n",
      "1847    False\n",
      "2813    False\n",
      "2470    False\n",
      "2386     True\n",
      "1566    False\n",
      "909     False\n",
      "2741    False\n",
      "1893     True\n",
      "3038    False\n",
      "28      False\n",
      "1321    False\n",
      "1986    False\n",
      "364     False\n",
      "748     False\n",
      "3199    False\n",
      "3147    False\n",
      "963     False\n",
      "        ...  \n",
      "1828    False\n",
      "1195    False\n",
      "1813    False\n",
      "1265    False\n",
      "358     False\n",
      "492      True\n",
      "2216    False\n",
      "932     False\n",
      "1570    False\n",
      "2248    False\n",
      "1931    False\n",
      "2301    False\n",
      "1504    False\n",
      "944      True\n",
      "1775    False\n",
      "1745    False\n",
      "1077     True\n",
      "1237    False\n",
      "2403    False\n",
      "520     False\n",
      "1546    False\n",
      "2161    False\n",
      "2661    False\n",
      "2822    False\n",
      "176     False\n",
      "1833    False\n",
      "1526    False\n",
      "544     False\n",
      "2902    False\n",
      "1102     True\n",
      "Name: Churn?, Length: 1999, dtype: bool, 'ytest': 2488    False\n",
      "1325     True\n",
      "541     False\n",
      "1654    False\n",
      "607     False\n",
      "2639    False\n",
      "1220    False\n",
      "1843    False\n",
      "2224    False\n",
      "1567    False\n",
      "2979     True\n",
      "275     False\n",
      "1581    False\n",
      "883     False\n",
      "376     False\n",
      "1379    False\n",
      "1499    False\n",
      "2426    False\n",
      "496     False\n",
      "510     False\n",
      "2313    False\n",
      "447     False\n",
      "2095    False\n",
      "1855    False\n",
      "939     False\n",
      "370     False\n",
      "2883    False\n",
      "2362    False\n",
      "1149    False\n",
      "3289    False\n",
      "        ...  \n",
      "1113    False\n",
      "3292    False\n",
      "964     False\n",
      "2269    False\n",
      "675     False\n",
      "2311    False\n",
      "3164    False\n",
      "1830    False\n",
      "1108    False\n",
      "3176    False\n",
      "1395    False\n",
      "2288    False\n",
      "3072     True\n",
      "1424    False\n",
      "1684    False\n",
      "2375    False\n",
      "44      False\n",
      "682     False\n",
      "500     False\n",
      "1462    False\n",
      "2812    False\n",
      "2173     True\n",
      "341     False\n",
      "735     False\n",
      "387     False\n",
      "1375    False\n",
      "263     False\n",
      "1968    False\n",
      "2628    False\n",
      "3179    False\n",
      "Name: Churn?, Length: 1334, dtype: bool}\n"
     ]
    }
   ],
   "source": [
    "from sklearn.tree import DecisionTreeClassifier\n",
    "u= dict(Xtrain=Xtrain, Xtest=Xtest, ytrain=ytrain, ytest=ytest)\n",
    "print(u)"
   ]
  },
  {
   "cell_type": "code",
   "execution_count": 292,
   "metadata": {},
   "outputs": [],
   "source": [
    "clfdt = DecisionTreeClassifier( max_depth = 8) \n",
    "                               \n",
    "clf1 = clfdt.fit(Xtrain,ytrain)"
   ]
  },
  {
   "cell_type": "code",
   "execution_count": 293,
   "metadata": {
    "scrolled": true
   },
   "outputs": [
    {
     "name": "stdout",
     "output_type": "stream",
     "text": [
      "0.9729864932466233\n",
      "0.9302848575712144\n"
     ]
    }
   ],
   "source": [
    "training_accuracy1 = clf1.score(Xtrain, ytrain)\n",
    "test_accuracy1 = clf1.score(Xtest, ytest)\n",
    "print(training_accuracy1)\n",
    "print(test_accuracy1)"
   ]
  },
  {
   "cell_type": "code",
   "execution_count": 295,
   "metadata": {},
   "outputs": [
    {
     "name": "stdout",
     "output_type": "stream",
     "text": [
      "[[1105   32]\n",
      " [  61  136]]\n"
     ]
    }
   ],
   "source": [
    "confusionmatrix2 = confusion_matrix(ytest, clf1.predict(Xtest)\n",
    "print(confusionmatrix2)\n"
   ]
  },
  {
   "cell_type": "code",
   "execution_count": 346,
   "metadata": {},
   "outputs": [
    {
     "name": "stdout",
     "output_type": "stream",
     "text": [
      "169.23275862068965\n",
      "100.9512743628186\n",
      "103.54122938530735\n",
      "104.05922038980509\n",
      "104.05922038980509\n",
      "104.05922038980509\n",
      "104.42278860569715\n",
      "104.42278860569715\n",
      "104.42278860569715\n",
      "104.42278860569715\n"
     ]
    }
   ],
   "source": [
    "for t in np.arange(0,1,0.1):\n",
    "    print(avg_cost(ytest, repredict(clf1,t, Xtest),cost))\n",
    "\n",
    "    \n"
   ]
  },
  {
   "cell_type": "code",
   "execution_count": 329,
   "metadata": {},
   "outputs": [],
   "source": [
    "fpr1,tpr1,thresholds1 = roc_curve(ytest,clf1.predict_proba(Xtest)[:,1])"
   ]
  },
  {
   "cell_type": "code",
   "execution_count": 307,
   "metadata": {},
   "outputs": [
    {
     "data": {
      "text/plain": [
       "<matplotlib.legend.Legend at 0x185ee9b6400>"
      ]
     },
     "execution_count": 307,
     "metadata": {},
     "output_type": "execute_result"
    },
    {
     "data": {
      "image/png": "[encoded data removed]",
      "text/plain": [
       "<Figure size 1080x720 with 1 Axes>"
      ]
     },
     "metadata": {},
     "output_type": "display_data"
    }
   ],
   "source": [
    "ax = plt.gca()\n",
    "\n",
    "roc_auc = auc(fpr, tpr)    \n",
    "ax.plot(fpr, tpr, '.-', alpha=0.3, label='ROC curve for %s (area = %0.2f)' % ('gnb', roc_auc))     \n",
    "label_kwargs = {}\n",
    "label_kwargs['bbox'] = dict(boxstyle='round,pad=0.5', fc='yellow', alpha=0.3)\n",
    "\n",
    "for k in range(0,fpr.shape[0],50):\n",
    "    threshold = np.round(thresholds[k],2)\n",
    "    ax.annotate(threshold, (fpr[k], tpr[k]), **label_kwargs)\n",
    "\n",
    "\n",
    "ax.plot([0,1],[0,1], 'k--')\n",
    "ax.set_xlim([0.0,1.0])\n",
    "ax.set_ylim(0.0,1.05)\n",
    "ax.set_xlabel('False positive Rate')\n",
    "ax.set_ylabel('True positive Rate')\n",
    "ax.legend(loc=\"lower right\")\n",
    "\n",
    "ax1 = plt.gca()\n",
    "roc_auc1 = auc(fpr1, tpr1)    \n",
    "ax1.plot(fpr1, tpr1, '.-', alpha=0.3, label='ROC curve for %s (area = %0.2f)' % ('dt', roc_auc1))     \n",
    "label_kwargs = {}\n",
    "label_kwargs['bbox'] = dict(boxstyle='round,pad=0.5', fc='yellow', alpha=0.3)\n",
    "\n",
    "for p in range(0,fpr1.shape[0],1):\n",
    "    threshold1 = np.round(thresholds1[p],2)\n",
    "    ax.annotate(threshold1, (fpr1[p], tpr1[p]), **label_kwargs)\n",
    "ax1.legend(loc=\"lower right\")"
   ]
  },
  {
   "cell_type": "code",
   "execution_count": 308,
   "metadata": {},
   "outputs": [
    {
     "name": "stdout",
     "output_type": "stream",
     "text": [
      "[[   0.   103. ]\n",
      " [1000.   551.5]]\n"
     ]
    }
   ],
   "source": [
    "print(cost)"
   ]
  },
  {
   "cell_type": "code",
   "execution_count": 310,
   "metadata": {},
   "outputs": [],
   "source": [
    "def rat(cost):\n",
    "    return ((cost[0,1]-cost[0,0])/(cost[1,0]-cost[1,1]))"
   ]
  },
  {
   "cell_type": "code",
   "execution_count": 311,
   "metadata": {},
   "outputs": [],
   "source": [
    "def c_repredict(est,c,xtest):\n",
    "    r = rat(c)\n",
    "    print(r)\n",
    "    t = r/1.+r\n",
    "    probs = est.predict_proba(xtest)\n",
    "    p0 = probs[:,0]\n",
    "    p1 = probs[:,1]\n",
    "    ypred = (p1>=t)*1\n",
    "    return ypred"
   ]
  },
  {
   "cell_type": "code",
   "execution_count": 312,
   "metadata": {},
   "outputs": [
    {
     "name": "stdout",
     "output_type": "stream",
     "text": [
      "0.22965440356744704\n"
     ]
    },
    {
     "data": {
      "text/plain": [
       "104.05922038980509"
      ]
     },
     "execution_count": 312,
     "metadata": {},
     "output_type": "execute_result"
    }
   ],
   "source": [
    "avg_cost(ytest, c_repredict(clf1, cost, Xtest), cost)\n"
   ]
  },
  {
   "cell_type": "code",
   "execution_count": 324,
   "metadata": {},
   "outputs": [
    {
     "data": {
      "text/plain": [
       "[<matplotlib.lines.Line2D at 0x185ef8eb860>]"
      ]
     },
     "execution_count": 324,
     "metadata": {},
     "output_type": "execute_result"
    },
    {
     "data": {
      "image/png": "[encoded data removed]",
      "text/plain": [
       "<Figure size 1080x720 with 1 Axes>"
      ]
     },
     "metadata": {},
     "output_type": "display_data"
    }
   ],
   "source": [
    "\n",
    "plt.plot(np.arange(0,1,0.05), [avg_cost(ytest, repredict(clf1, t, Xtest), cost) for t in np.arange(0,1,0.05)] )"
   ]
  },
  {
   "cell_type": "code",
   "execution_count": null,
   "metadata": {},
   "outputs": [],
   "source": []
  },
  {
   "cell_type": "code",
   "execution_count": null,
   "metadata": {},
   "outputs": [],
   "source": []
  },
  {
   "cell_type": "code",
   "execution_count": null,
   "metadata": {},
   "outputs": [],
   "source": []
  },
  {
   "cell_type": "code",
   "execution_count": null,
   "metadata": {},
   "outputs": [],
   "source": []
  },
  {
   "cell_type": "code",
   "execution_count": null,
   "metadata": {},
   "outputs": [],
   "source": []
  },
  {
   "cell_type": "code",
   "execution_count": null,
   "metadata": {},
   "outputs": [],
   "source": []
  },
  {
   "cell_type": "code",
   "execution_count": 186,
   "metadata": {},
   "outputs": [],
   "source": [
    "def make_roc(name, clf, ytest, xtest, ax=None, labe=5, proba=True, skip=0):\n",
    "    initial=False\n",
    "    if not ax:\n",
    "        ax=plt.gca()\n",
    "        initial=True\n",
    "    if proba:\n",
    "        fpr, tpr, thresholds=roc_curve(ytest, clf.predict_proba(xtest)[:,1])\n",
    "    else:\n",
    "        fpr, tpr, thresholds=roc_curve(ytest, clf.decision_function(xtest))\n",
    "    roc_auc = auc(fpr, tpr)\n",
    "    if skip:\n",
    "        l=fpr.shape[0]\n",
    "        ax.plot(fpr[0:l:skip], tpr[0:l:skip], '.-', alpha=0.3, label='ROC curve for %s (area = %0.2f)' % (name, roc_auc))\n",
    "    else:\n",
    "        ax.plot(fpr, tpr, '.-', alpha=0.3, label='ROC curve for %s (area = %0.2f)' % (name, roc_auc))\n",
    "    label_kwargs = {}\n",
    "    label_kwargs['bbox'] = dict(\n",
    "        boxstyle='round,pad=0.3', alpha=0.2,\n",
    "    )\n",
    "    for k in range(0, fpr.shape[0],labe):\n",
    "        #from https://gist.github.com/podshumok/c1d1c9394335d86255b8\n",
    "        threshold = str(np.round(thresholds[k], 2))\n",
    "        ax.annotate(threshold, (fpr[k], tpr[k]), **label_kwargs)\n",
    "    if initial:\n",
    "        ax.plot([0, 1], [0, 1], 'k--')\n",
    "        ax.set_xlim([0.0, 1.0])\n",
    "        ax.set_ylim([0.0, 1.05])\n",
    "        ax.set_xlabel('False Positive Rate')\n",
    "        ax.set_ylabel('True Positive Rate')\n",
    "        ax.set_title('ROC')\n",
    "    ax.legend(loc=\"lower right\")\n",
    "    return ax"
   ]
  },
  {
   "cell_type": "code",
   "execution_count": 188,
   "metadata": {},
   "outputs": [
    {
     "data": {
      "text/plain": [
       "<matplotlib.axes._subplots.AxesSubplot at 0x185e86d3a90>"
      ]
     },
     "execution_count": 188,
     "metadata": {},
     "output_type": "execute_result"
    },
    {
     "data": {
      "image/png": "[encoded data removed]",
      "text/plain": [
       "<Figure size 1080x720 with 1 Axes>"
      ]
     },
     "metadata": {},
     "output_type": "display_data"
    }
   ],
   "source": [
    "make_roc(\"gnb\",clfgnb, ytest, Xtest, None, labe=50)\n"
   ]
  },
  {
   "cell_type": "code",
   "execution_count": null,
   "metadata": {},
   "outputs": [],
   "source": []
  },
  {
   "cell_type": "code",
   "execution_count": 165,
   "metadata": {},
   "outputs": [],
   "source": [
    "from  sklearn.metrics import roc_curve, auc"
   ]
  },
  {
   "cell_type": "code",
   "execution_count": 207,
   "metadata": {},
   "outputs": [
    {
     "ename": "SyntaxError",
     "evalue": "invalid syntax (<ipython-input-207-04a004193c8e>, line 11)",
     "output_type": "error",
     "traceback": [
      "\u001b[1;36m  File \u001b[1;32m\"<ipython-input-207-04a004193c8e>\"\u001b[1;36m, line \u001b[1;32m11\u001b[0m\n\u001b[1;33m    ax.plot(fpr[0:l:2], tpr[0:l:2], '.-', alpha=0.3, label='ROC curve for %s (area = %0.2f)' % (name, roc_auc))label_kwargs = {}\u001b[0m\n\u001b[1;37m                                                                                                                          ^\u001b[0m\n\u001b[1;31mSyntaxError\u001b[0m\u001b[1;31m:\u001b[0m invalid syntax\n"
     ]
    }
   ],
   "source": [
    "r= clf.predict_proba(Xtest)[:,1]\n",
    "print(r)\n",
    "name = \"gnb\"\n",
    "ax =plt.gca()\n",
    "plt.rcParams[\"figure.figsize\"] = (15,10)\n",
    "fpr,tpr, thresholds = roc_curve(ytest, clf.predict_proba(Xtest)[:,1])\n",
    "roc_auc =auc(fpr,tpr)\n",
    "ax.plot(fpr, tpr, '.-', alpha=0.3, label='ROC curve for %s (area = %0.2f)' % (name, roc_auc))\n",
    "\n",
    "l=fpr.shape[0]\n",
    "ax.plot(fpr[0:l:2], tpr[0:l:2], '.-', alpha=0.3, label='ROC curve for %s (area = %0.2f)' % (name, roc_auc))label_kwargs = {}\n",
    " label_kwargs = {}\n",
    "label_kwargs['bbox'] = dict( boxstyle='round,pad=0.3', alpha=0.2)\n",
    "for k in range(0, fpr.shape[0],5):\n",
    "    #from https://gist.github.com/podshumok/c1d1c9394335d86255b8\n",
    "    threshold = str(np.round(thresholds[k], 2))\n",
    "    ax.annotate(threshold, (fpr[k], tpr[k]), **label_kwargs)\n",
    "ax.plot([0, 1], [0, 1], 'k--')\n",
    "ax.set_xlim([0.0, 1.0])\n",
    "ax.set_ylim([0.0, 1.05])\n",
    "ax.set_xlabel('False Positive Rate')\n",
    "ax.set_ylabel('True Positive Rate')\n",
    "ax.set_title('ROC')\n",
    "ax.legend(loc=\"lower right\")"
   ]
  },
  {
   "cell_type": "code",
   "execution_count": 205,
   "metadata": {},
   "outputs": [
    {
     "name": "stdout",
     "output_type": "stream",
     "text": [
      "[0.02694962 0.61051021 0.00286824 ... 0.0132692  0.20916689 0.04000795]\n"
     ]
    },
    {
     "ename": "ValueError",
     "evalue": "slice step cannot be zero",
     "output_type": "error",
     "traceback": [
      "\u001b[1;31m---------------------------------------------------------------------------\u001b[0m",
      "\u001b[1;31mValueError\u001b[0m                                Traceback (most recent call last)",
      "\u001b[1;32m<ipython-input-205-0a98e36ae93e>\u001b[0m in \u001b[0;36m<module>\u001b[1;34m()\u001b[0m\n\u001b[0;32m      8\u001b[0m \u001b[1;33m\u001b[0m\u001b[0m\n\u001b[0;32m      9\u001b[0m \u001b[0ml\u001b[0m\u001b[1;33m=\u001b[0m\u001b[0mfpr\u001b[0m\u001b[1;33m.\u001b[0m\u001b[0mshape\u001b[0m\u001b[1;33m[\u001b[0m\u001b[1;36m0\u001b[0m\u001b[1;33m]\u001b[0m\u001b[1;33m\u001b[0m\u001b[0m\n\u001b[1;32m---> 10\u001b[1;33m \u001b[0max\u001b[0m\u001b[1;33m.\u001b[0m\u001b[0mplot\u001b[0m\u001b[1;33m(\u001b[0m\u001b[0mfpr\u001b[0m\u001b[1;33m[\u001b[0m\u001b[1;36m0\u001b[0m\u001b[1;33m:\u001b[0m\u001b[0ml\u001b[0m\u001b[1;33m:\u001b[0m\u001b[1;36m0\u001b[0m\u001b[1;33m]\u001b[0m\u001b[1;33m,\u001b[0m \u001b[0mtpr\u001b[0m\u001b[1;33m[\u001b[0m\u001b[1;36m0\u001b[0m\u001b[1;33m:\u001b[0m\u001b[0ml\u001b[0m\u001b[1;33m:\u001b[0m\u001b[1;36m0\u001b[0m\u001b[1;33m]\u001b[0m\u001b[1;33m,\u001b[0m \u001b[1;34m'.-'\u001b[0m\u001b[1;33m,\u001b[0m \u001b[0malpha\u001b[0m\u001b[1;33m=\u001b[0m\u001b[1;36m0.3\u001b[0m\u001b[1;33m,\u001b[0m \u001b[0mlabel\u001b[0m\u001b[1;33m=\u001b[0m\u001b[1;34m'ROC curve for %s (area = %0.2f)'\u001b[0m \u001b[1;33m%\u001b[0m \u001b[1;33m(\u001b[0m\u001b[0mname\u001b[0m\u001b[1;33m,\u001b[0m \u001b[0mroc_auc\u001b[0m\u001b[1;33m)\u001b[0m\u001b[1;33m)\u001b[0m\u001b[1;33m\u001b[0m\u001b[0m\n\u001b[0m\u001b[0;32m     11\u001b[0m \u001b[0mlabel_kwargs\u001b[0m \u001b[1;33m=\u001b[0m \u001b[1;33m{\u001b[0m\u001b[1;33m}\u001b[0m\u001b[1;33m\u001b[0m\u001b[0m\n\u001b[0;32m     12\u001b[0m \u001b[0mlabel_kwargs\u001b[0m\u001b[1;33m[\u001b[0m\u001b[1;34m'bbox'\u001b[0m\u001b[1;33m]\u001b[0m \u001b[1;33m=\u001b[0m \u001b[0mdict\u001b[0m\u001b[1;33m(\u001b[0m \u001b[0mboxstyle\u001b[0m\u001b[1;33m=\u001b[0m\u001b[1;34m'round,pad=0.3'\u001b[0m\u001b[1;33m,\u001b[0m \u001b[0malpha\u001b[0m\u001b[1;33m=\u001b[0m\u001b[1;36m0.2\u001b[0m\u001b[1;33m)\u001b[0m\u001b[1;33m\u001b[0m\u001b[0m\n",
      "\u001b[1;31mValueError\u001b[0m: slice step cannot be zero"
     ]
    },
    {
     "data": {
      "image/png": "[encoded data removed]",
      "text/plain": [
       "<Figure size 1080x720 with 1 Axes>"
      ]
     },
     "metadata": {},
     "output_type": "display_data"
    }
   ],
   "source": [
    "r= clf.predict_proba(Xtest)[:,1]\n",
    "print(r)\n",
    "name = \"gnb\"\n",
    "ax =plt.gca()\n",
    "\n",
    "fpr,tpr, thresholds = roc_curve(ytest, clf.predict_proba(Xtest)[:,1])\n",
    "roc_auc =auc(fpr,tpr)\n",
    "\n",
    "l=fpr.shape[0]\n",
    "ax.plot(fpr[0:l:0], tpr[0:l:0], '.-', alpha=0.3, label='ROC curve for %s (area = %0.2f)' % (name, roc_auc))\n",
    "label_kwargs = {}\n",
    "label_kwargs['bbox'] = dict( boxstyle='round,pad=0.3', alpha=0.2)\n",
    "for k in range(0, fpr.shape[0],5):\n",
    "    #from https://gist.github.com/podshumok/c1d1c9394335d86255b8\n",
    "    threshold = str(np.round(thresholds[k], 2))\n",
    "    ax.annotate(threshold, (fpr[k], tpr[k]), **label_kwargs)\n",
    "ax.plot([0, 1], [0, 1], 'k--')\n",
    "ax.set_xlim([0.0, 1.0])\n",
    "ax.set_ylim([0.0, 1.05])\n",
    "ax.set_xlabel('False Positive Rate')\n",
    "ax.set_ylabel('True Positive Rate')\n",
    "ax.set_title('ROC')\n",
    "ax.legend(loc=\"lower right\")"
   ]
  },
  {
   "cell_type": "code",
   "execution_count": null,
   "metadata": {},
   "outputs": [],
   "source": []
  },
  {
   "cell_type": "code",
   "execution_count": null,
   "metadata": {},
   "outputs": [],
   "source": []
  },
  {
   "cell_type": "code",
   "execution_count": 49,
   "metadata": {},
   "outputs": [
    {
     "name": "stdout",
     "output_type": "stream",
     "text": [
      "[1 1 1 ... 1 1 1]\n",
      "3333\n",
      "-3334\n"
     ]
    },
    {
     "name": "stderr",
     "output_type": "stream",
     "text": [
      "C:\\ProgramData\\Anaconda3\\lib\\site-packages\\sklearn\\model_selection\\_split.py:2026: FutureWarning: From version 0.21, test_size will always complement train_size unless both are specified.\n",
      "  FutureWarning)\n"
     ]
    }
   ],
   "source": [
    "# what will be the cost if we assume no customer churns, lets see-\n",
    "from sklearn.model_selection import train_test_split\n",
    "churntrain, churntest = train_test_split(range(dfchurn.shape[0]), train_size=0.6)\n",
    "\n",
    "\n",
    "churnmask=np.ones(dfchurn.shape[0], dtype='int')\n",
    "\n",
    "churnmask[churntrain]=1\n",
    "churnmask[churntest]=0\n",
    "print(churnmask)\n",
    "churnmask = (churnmask==1)\n",
    "print(churnmask.size)\n",
    "print(~churnmask.size)\n"
   ]
  },
  {
   "cell_type": "code",
   "execution_count": 46,
   "metadata": {},
   "outputs": [
    {
     "data": {
      "text/plain": [
       "0       False.\n",
       "1       False.\n",
       "2       False.\n",
       "3       False.\n",
       "4       False.\n",
       "5       False.\n",
       "6       False.\n",
       "7       False.\n",
       "8       False.\n",
       "9       False.\n",
       "10       True.\n",
       "11      False.\n",
       "12      False.\n",
       "13      False.\n",
       "14      False.\n",
       "15       True.\n",
       "16      False.\n",
       "17      False.\n",
       "18      False.\n",
       "19      False.\n",
       "20      False.\n",
       "21       True.\n",
       "22      False.\n",
       "23      False.\n",
       "24      False.\n",
       "25      False.\n",
       "26      False.\n",
       "27      False.\n",
       "28      False.\n",
       "29      False.\n",
       "         ...  \n",
       "3303    False.\n",
       "3304     True.\n",
       "3305    False.\n",
       "3306    False.\n",
       "3307    False.\n",
       "3308    False.\n",
       "3309    False.\n",
       "3310    False.\n",
       "3311    False.\n",
       "3312    False.\n",
       "3313    False.\n",
       "3314    False.\n",
       "3315    False.\n",
       "3316    False.\n",
       "3317    False.\n",
       "3318    False.\n",
       "3319    False.\n",
       "3320     True.\n",
       "3321    False.\n",
       "3322     True.\n",
       "3323     True.\n",
       "3324    False.\n",
       "3325    False.\n",
       "3326    False.\n",
       "3327    False.\n",
       "3328    False.\n",
       "3329    False.\n",
       "3330    False.\n",
       "3331    False.\n",
       "3332    False.\n",
       "Name: Churn?, Length: 3333, dtype: object"
      ]
     },
     "execution_count": 46,
     "metadata": {},
     "output_type": "execute_result"
    }
   ],
   "source": [
    "dfchurn['Churn?']"
   ]
  },
  {
   "cell_type": "code",
   "execution_count": 58,
   "metadata": {},
   "outputs": [
    {
     "data": {
      "text/plain": [
       "1334"
      ]
     },
     "execution_count": 58,
     "metadata": {},
     "output_type": "execute_result"
    }
   ],
   "source": [
    "dfchurn['Churn?'][~churnmask]"
   ]
  },
  {
   "cell_type": "code",
   "execution_count": 64,
   "metadata": {},
   "outputs": [
    {
     "name": "stdout",
     "output_type": "stream",
     "text": [
      "1334\n"
     ]
    }
   ],
   "source": [
    "testchurners=dfchurn['Churn?'][churntest].values=='True.'\n",
    "print(testchurners.size)"
   ]
  },
  {
   "cell_type": "code",
   "execution_count": 62,
   "metadata": {},
   "outputs": [
    {
     "name": "stdout",
     "output_type": "stream",
     "text": [
      "1261    False.\n",
      "327     False.\n",
      "3148     True.\n",
      "52      False.\n",
      "1580    False.\n",
      "852     False.\n",
      "580      True.\n",
      "114     False.\n",
      "559     False.\n",
      "1656    False.\n",
      "369     False.\n",
      "1030     True.\n",
      "1138    False.\n",
      "2492    False.\n",
      "1143    False.\n",
      "512     False.\n",
      "2686    False.\n",
      "843     False.\n",
      "1074    False.\n",
      "2724     True.\n",
      "3255     True.\n",
      "1485    False.\n",
      "1572    False.\n",
      "3022    False.\n",
      "2171    False.\n",
      "86       True.\n",
      "1326    False.\n",
      "180     False.\n",
      "3118    False.\n",
      "1971    False.\n",
      "         ...  \n",
      "788     False.\n",
      "2762    False.\n",
      "1618    False.\n",
      "103     False.\n",
      "755     False.\n",
      "548     False.\n",
      "76       True.\n",
      "1824    False.\n",
      "264     False.\n",
      "1702     True.\n",
      "1836    False.\n",
      "1597    False.\n",
      "1691     True.\n",
      "2864    False.\n",
      "848     False.\n",
      "1454     True.\n",
      "2588    False.\n",
      "2918    False.\n",
      "279     False.\n",
      "605      True.\n",
      "43      False.\n",
      "1842     True.\n",
      "978      True.\n",
      "1004    False.\n",
      "2907    False.\n",
      "471     False.\n",
      "2172    False.\n",
      "2009    False.\n",
      "2693    False.\n",
      "1091    False.\n",
      "Name: Churn?, Length: 1334, dtype: object\n",
      "[False False False ... False False False]\n"
     ]
    }
   ],
   "source": [
    "print(dfchurn['Churn?'][churntest])\n",
    "print(dfchurn['Churn?'][churntest].values =='True')"
   ]
  },
  {
   "cell_type": "code",
   "execution_count": 66,
   "metadata": {},
   "outputs": [
    {
     "name": "stdout",
     "output_type": "stream",
     "text": [
      "1334\n",
      "[0 0 0 ... 0 0 0]\n",
      "[False False  True ... False False False]\n",
      "[[1147    0]\n",
      " [ 187    0]]\n"
     ]
    }
   ],
   "source": [
    "testsize = dfchurn[~churnmask].shape[0]\n",
    "print(testsize)\n",
    "ypred_dste = np.zeros(testsize, dtype=\"int\")\n",
    "print(ypred_dste)\n",
    "print(testchurners)\n",
    "print (confusion_matrix(testchurners, ypred_dste))"
   ]
  },
  {
   "cell_type": "code",
   "execution_count": null,
   "metadata": {},
   "outputs": [],
   "source": []
  },
  {
   "cell_type": "code",
   "execution_count": null,
   "metadata": {},
   "outputs": [],
   "source": []
  }
 ],
 "metadata": {
  "kernelspec": {
   "display_name": "Python 3",
   "language": "python",
   "name": "python3"
  },
  "language_info": {
   "codemirror_mode": {
    "name": "ipython",
    "version": 3
   },
   "file_extension": ".py",
   "mimetype": "text/x-python",
   "name": "python",
   "nbconvert_exporter": "python",
   "pygments_lexer": "ipython3",
   "version": "3.6.5"
  }
 },
 "nbformat": 4,
 "nbformat_minor": 2
}
